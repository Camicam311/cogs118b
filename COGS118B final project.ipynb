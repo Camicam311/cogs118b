{
 "cells": [
  {
   "cell_type": "code",
   "execution_count": 4,
   "metadata": {
    "collapsed": true
   },
   "outputs": [],
   "source": [
    "%matplotlib inline\n",
    "\n",
    "import os\n",
    "\n",
    "import pandas as pd\n",
    "import numpy as np"
   ]
  },
  {
   "cell_type": "markdown",
   "metadata": {},
   "source": [
    "# Data and cleaning"
   ]
  },
  {
   "cell_type": "code",
   "execution_count": 5,
   "metadata": {
    "collapsed": true
   },
   "outputs": [],
   "source": [
    "#read in data\n",
    "data_fp = 'lyrics.csv'\n",
    "df = pd.read_csv(data_fp, engine='python')\n",
    "df = df.drop('Source', axis  = 1)\n",
    "df = df.dropna()"
   ]
  },
  {
   "cell_type": "code",
   "execution_count": 6,
   "metadata": {
    "collapsed": true
   },
   "outputs": [],
   "source": [
    "#put in word counts\n",
    "df['Word Count'] = df['Lyrics'].str.split().str.len()"
   ]
  },
  {
   "cell_type": "code",
   "execution_count": 7,
   "metadata": {},
   "outputs": [
    {
     "data": {
      "text/html": [
       "<div>\n",
       "<style scoped>\n",
       "    .dataframe tbody tr th:only-of-type {\n",
       "        vertical-align: middle;\n",
       "    }\n",
       "\n",
       "    .dataframe tbody tr th {\n",
       "        vertical-align: top;\n",
       "    }\n",
       "\n",
       "    .dataframe thead th {\n",
       "        text-align: right;\n",
       "    }\n",
       "</style>\n",
       "<table border=\"1\" class=\"dataframe\">\n",
       "  <thead>\n",
       "    <tr style=\"text-align: right;\">\n",
       "      <th></th>\n",
       "      <th>Rank</th>\n",
       "      <th>Song</th>\n",
       "      <th>Artist</th>\n",
       "      <th>Year</th>\n",
       "      <th>Lyrics</th>\n",
       "      <th>Word Count</th>\n",
       "    </tr>\n",
       "  </thead>\n",
       "  <tbody>\n",
       "    <tr>\n",
       "      <th>2</th>\n",
       "      <td>3</td>\n",
       "      <td>i cant get no satisfaction</td>\n",
       "      <td>the rolling stones</td>\n",
       "      <td>1965</td>\n",
       "      <td></td>\n",
       "      <td>0</td>\n",
       "    </tr>\n",
       "    <tr>\n",
       "      <th>17</th>\n",
       "      <td>18</td>\n",
       "      <td>the in crowd</td>\n",
       "      <td>ramsey lewis trio</td>\n",
       "      <td>1965</td>\n",
       "      <td>instrumental</td>\n",
       "      <td>1</td>\n",
       "    </tr>\n",
       "    <tr>\n",
       "      <th>177</th>\n",
       "      <td>78</td>\n",
       "      <td>love is a hurtin thing</td>\n",
       "      <td>lou rawls</td>\n",
       "      <td>1966</td>\n",
       "      <td></td>\n",
       "      <td>0</td>\n",
       "    </tr>\n",
       "    <tr>\n",
       "      <th>179</th>\n",
       "      <td>80</td>\n",
       "      <td>gloria</td>\n",
       "      <td>shadows of knight</td>\n",
       "      <td>1966</td>\n",
       "      <td></td>\n",
       "      <td>0</td>\n",
       "    </tr>\n",
       "    <tr>\n",
       "      <th>197</th>\n",
       "      <td>98</td>\n",
       "      <td>zorba the greek</td>\n",
       "      <td>herb alpert and the tijuana brass</td>\n",
       "      <td>1966</td>\n",
       "      <td></td>\n",
       "      <td>0</td>\n",
       "    </tr>\n",
       "  </tbody>\n",
       "</table>\n",
       "</div>"
      ],
      "text/plain": [
       "     Rank                        Song                             Artist  \\\n",
       "2       3  i cant get no satisfaction                 the rolling stones   \n",
       "17     18                the in crowd                  ramsey lewis trio   \n",
       "177    78      love is a hurtin thing                          lou rawls   \n",
       "179    80                      gloria                  shadows of knight   \n",
       "197    98             zorba the greek  herb alpert and the tijuana brass   \n",
       "\n",
       "     Year        Lyrics  Word Count  \n",
       "2    1965                         0  \n",
       "17   1965  instrumental           1  \n",
       "177  1966                         0  \n",
       "179  1966                         0  \n",
       "197  1966                         0  "
      ]
     },
     "metadata": {},
     "output_type": "display_data"
    }
   ],
   "source": [
    "#remove soungs with word count of 0 or 1\n",
    "display(df.loc[df['Word Count'] <= 1].head())\n",
    "df = df[df['Word Count'] > 1]"
   ]
  },
  {
   "cell_type": "code",
   "execution_count": 8,
   "metadata": {
    "collapsed": true
   },
   "outputs": [],
   "source": [
    "#tokenize song lyrics, where '\\x02' is START token and '\\x03' is END token\n",
    "df['tokens'] = ('\\x02 ' + df['Lyrics'] + ' \\x03').str.split()"
   ]
  },
  {
   "cell_type": "code",
   "execution_count": 9,
   "metadata": {},
   "outputs": [
    {
     "data": {
      "text/html": [
       "<div>\n",
       "<style scoped>\n",
       "    .dataframe tbody tr th:only-of-type {\n",
       "        vertical-align: middle;\n",
       "    }\n",
       "\n",
       "    .dataframe tbody tr th {\n",
       "        vertical-align: top;\n",
       "    }\n",
       "\n",
       "    .dataframe thead th {\n",
       "        text-align: right;\n",
       "    }\n",
       "</style>\n",
       "<table border=\"1\" class=\"dataframe\">\n",
       "  <thead>\n",
       "    <tr style=\"text-align: right;\">\n",
       "      <th></th>\n",
       "      <th>Rank</th>\n",
       "      <th>Song</th>\n",
       "      <th>Artist</th>\n",
       "      <th>Year</th>\n",
       "      <th>Lyrics</th>\n",
       "      <th>Word Count</th>\n",
       "      <th>tokens</th>\n",
       "    </tr>\n",
       "  </thead>\n",
       "  <tbody>\n",
       "    <tr>\n",
       "      <th>0</th>\n",
       "      <td>1</td>\n",
       "      <td>wooly bully</td>\n",
       "      <td>sam the sham and the pharaohs</td>\n",
       "      <td>1965</td>\n",
       "      <td>sam the sham miscellaneous wooly bully wooly b...</td>\n",
       "      <td>125</td>\n",
       "      <td>[\u0002, sam, the, sham, miscellaneous, wooly, bull...</td>\n",
       "    </tr>\n",
       "    <tr>\n",
       "      <th>1</th>\n",
       "      <td>2</td>\n",
       "      <td>i cant help myself sugar pie honey bunch</td>\n",
       "      <td>four tops</td>\n",
       "      <td>1965</td>\n",
       "      <td>sugar pie honey bunch you know that i love yo...</td>\n",
       "      <td>204</td>\n",
       "      <td>[\u0002, sugar, pie, honey, bunch, you, know, that,...</td>\n",
       "    </tr>\n",
       "    <tr>\n",
       "      <th>3</th>\n",
       "      <td>4</td>\n",
       "      <td>you were on my mind</td>\n",
       "      <td>we five</td>\n",
       "      <td>1965</td>\n",
       "      <td>when i woke up this morning you were on my mi...</td>\n",
       "      <td>152</td>\n",
       "      <td>[\u0002, when, i, woke, up, this, morning, you, wer...</td>\n",
       "    </tr>\n",
       "    <tr>\n",
       "      <th>4</th>\n",
       "      <td>5</td>\n",
       "      <td>youve lost that lovin feelin</td>\n",
       "      <td>the righteous brothers</td>\n",
       "      <td>1965</td>\n",
       "      <td>you never close your eyes anymore when i kiss...</td>\n",
       "      <td>232</td>\n",
       "      <td>[\u0002, you, never, close, your, eyes, anymore, wh...</td>\n",
       "    </tr>\n",
       "    <tr>\n",
       "      <th>5</th>\n",
       "      <td>6</td>\n",
       "      <td>downtown</td>\n",
       "      <td>petula clark</td>\n",
       "      <td>1965</td>\n",
       "      <td>when youre alone and life is making you lonel...</td>\n",
       "      <td>239</td>\n",
       "      <td>[\u0002, when, youre, alone, and, life, is, making,...</td>\n",
       "    </tr>\n",
       "  </tbody>\n",
       "</table>\n",
       "</div>"
      ],
      "text/plain": [
       "   Rank                                      Song  \\\n",
       "0     1                               wooly bully   \n",
       "1     2  i cant help myself sugar pie honey bunch   \n",
       "3     4                       you were on my mind   \n",
       "4     5              youve lost that lovin feelin   \n",
       "5     6                                  downtown   \n",
       "\n",
       "                          Artist  Year  \\\n",
       "0  sam the sham and the pharaohs  1965   \n",
       "1                      four tops  1965   \n",
       "3                        we five  1965   \n",
       "4         the righteous brothers  1965   \n",
       "5                   petula clark  1965   \n",
       "\n",
       "                                              Lyrics  Word Count  \\\n",
       "0  sam the sham miscellaneous wooly bully wooly b...         125   \n",
       "1   sugar pie honey bunch you know that i love yo...         204   \n",
       "3   when i woke up this morning you were on my mi...         152   \n",
       "4   you never close your eyes anymore when i kiss...         232   \n",
       "5   when youre alone and life is making you lonel...         239   \n",
       "\n",
       "                                              tokens  \n",
       "0  [\u0002, sam, the, sham, miscellaneous, wooly, bull...  \n",
       "1  [\u0002, sugar, pie, honey, bunch, you, know, that,...  \n",
       "3  [\u0002, when, i, woke, up, this, morning, you, wer...  \n",
       "4  [\u0002, you, never, close, your, eyes, anymore, wh...  \n",
       "5  [\u0002, when, youre, alone, and, life, is, making,...  "
      ]
     },
     "execution_count": 9,
     "metadata": {},
     "output_type": "execute_result"
    }
   ],
   "source": [
    "df.head()"
   ]
  },
  {
   "cell_type": "code",
   "execution_count": null,
   "metadata": {
    "collapsed": true
   },
   "outputs": [],
   "source": []
  },
  {
   "cell_type": "markdown",
   "metadata": {},
   "source": [
    "# N-gram model"
   ]
  },
  {
   "cell_type": "code",
   "execution_count": 10,
   "metadata": {
    "collapsed": true
   },
   "outputs": [],
   "source": [
    "# 1-gram base model\n",
    "\n",
    "class UnigramLM(object):\n",
    "    \n",
    "    def __init__(self, tokens):\n",
    "        \"\"\"\n",
    "        Initializes a Unigram languange model using a\n",
    "        list of tokens. It trains the language model\n",
    "        using 'train' and saves it to an attribute\n",
    "        self.mdl.\n",
    "        \"\"\"\n",
    "        self.mdl = self.train(tokens)\n",
    "    \n",
    "    def train(self, tokens):\n",
    "        \"\"\"\n",
    "        Trains a unigram language model given a list of tokens.\n",
    "        The output is a series indexed on distinct tokens, and\n",
    "        values giving the probability of a token occuring\n",
    "        in the language.\n",
    "        \"\"\"\n",
    "\n",
    "        return pd.Series(tokens).value_counts(normalize = True)\n",
    "    \n",
    "    def sample(self, M):\n",
    "        \"\"\"\n",
    "        sample selects tokens from the language model of length M, returning\n",
    "        a string of tokens.\n",
    "        \"\"\"\n",
    "        tokens = ''\n",
    "        \n",
    "        for _ in np.arange(M):\n",
    "            tokens += np.random.choice(self.mdl.index, p = self.mdl.values) + ' '\n",
    "        return tokens.strip()"
   ]
  },
  {
   "cell_type": "code",
   "execution_count": 11,
   "metadata": {
    "collapsed": true
   },
   "outputs": [],
   "source": [
    "# N-gram model\n",
    "\n",
    "class NGramLM(object):\n",
    "    \n",
    "    def __init__(self, N, tokens):\n",
    "        \"\"\"\n",
    "        Initializes a N-gram languange model using a\n",
    "        list of tokens. It trains the language model\n",
    "        using 'train' and saves it to an attribute\n",
    "        self.mdl.\n",
    "        \"\"\"\n",
    "\n",
    "        self.N = N\n",
    "        ngrams = self.create_ngrams(tokens)\n",
    "\n",
    "        self.ngrams = ngrams\n",
    "        self.mdl = self.train(ngrams)\n",
    "\n",
    "    def create_ngrams(self, tokens):\n",
    "        \"\"\"\n",
    "        create_ngrams takes in a list of tokens and returns a list of N-grams. \n",
    "        \"\"\"\n",
    "        \n",
    "        ngrams = []\n",
    "        num_preceding = 0\n",
    "        start_dist = 1\n",
    "        for i in np.arange(len(tokens)):\n",
    "\n",
    "            if tokens[i] == '\\x02':\n",
    "                gram = (tokens[i],) * self.N\n",
    "                ngrams.append(gram)\n",
    "                num_preceding = 0\n",
    "                start_dist = 1\n",
    "                continue        \n",
    "\n",
    "            if tokens[i] == '\\x03':\n",
    "                k = 0\n",
    "                while k < self.N:\n",
    "                    gram = ()\n",
    "                    for j in np.arange(self.N - 1 - k, 0, -1):\n",
    "                        gram += (tokens[i - j],)\n",
    "                    gram += ('\\x03',) * (k + 1)\n",
    "                    ngrams.append(gram)\n",
    "                    k += 1\n",
    "            elif num_preceding < self.N - 1:\n",
    "                gram = (tokens[i - start_dist],) * (self.N - 1 - num_preceding)\n",
    "                for j in np.arange(num_preceding, -1, -1):\n",
    "                    gram += (tokens[i - j],)\n",
    "                ngrams.append(gram)\n",
    "                    \n",
    "            else:\n",
    "                gram = ()\n",
    "                for j in np.arange(self.N - 1, -1, -1):\n",
    "                    gram += (tokens[i - j],)\n",
    "                ngrams.append(gram)\n",
    "\n",
    "            num_preceding += 1\n",
    "            start_dist += 1\n",
    "\n",
    "        return ngrams\n",
    "\n",
    "    \n",
    "    def train(self, ngrams):\n",
    "        \"\"\"\n",
    "        Trains a n-gram language model given a list of tokens.\n",
    "        The output is a series indexed on distinct tokens, and\n",
    "        values giving the probability of a token occuring\n",
    "        in the language.\n",
    "        \"\"\"\n",
    "      \n",
    "        # Create ngram counts C(w_1, ..., w_n)\n",
    "        ngram = pd.Series(self.ngrams)\n",
    "        ngram_unigram = UnigramLM(ngram)\n",
    "        \n",
    "        # Create n-1 gram counts C(w_1, ..., w_(n-1))\n",
    "        n1gram = ngram.apply(lambda x: x[:-1])\n",
    "        n1gram_unigram = UnigramLM(n1gram)\n",
    "        \n",
    "        # Create the conditional probabilities\n",
    "        prob = ngram.apply(lambda x: ngram_unigram.mdl[x]) / n1gram.apply(lambda y: n1gram_unigram.mdl[y])\n",
    "        \n",
    "        # Put it all together\n",
    "        return pd.DataFrame({'ngram': ngram, 'n1gram': n1gram, 'prob': prob})\n",
    "\n",
    "    def sample(self, length):\n",
    "        \"\"\"\n",
    "        sample selects tokens from the language model of length M, returning\n",
    "        a string of tokens.\n",
    "        \"\"\"\n",
    "        \n",
    "        # Use a helper function to generate sample tokens\n",
    "        def pick_sample(n1gram, M, num_picked):\n",
    "            \n",
    "            if M > 0 and num_picked > self.mdl.shape[0] - (self.N-1)*2:\n",
    "                return '\\x03 ' * M\n",
    "\n",
    "            if n1gram[-1] == '\\x03':\n",
    "                if M > 1:\n",
    "                    return pick_sample(('\\x02',)*(self.N-1), M-1, num_picked + 1)\n",
    "                else:\n",
    "                    return ''\n",
    "\n",
    "            temp = self.mdl.loc[self.mdl['n1gram'] == n1gram].drop_duplicates()\n",
    "            choices = temp['ngram'].apply(lambda x: x[-1]).tolist()\n",
    "            p = temp['prob'].tolist()\n",
    "            if M == 1:\n",
    "                return np.random.choice(choices, p = p) + ' \\x03'\n",
    "\n",
    "            else:\n",
    "                w = np.random.choice(choices, p = p)\n",
    "                if w in set(['\\x02', '\\x03']):\n",
    "                    return pick_sample(n1gram, M, num_picked)\n",
    "                n1gram = (n1gram + (w,))[1:]\n",
    "                return w + ' ' + pick_sample(n1gram, M-1, num_picked+1)\n",
    "        \n",
    "        # Tranform the tokens to strings recursively\n",
    "        sampled_tokens = '\\x02 '\n",
    "        sampled_tokens += pick_sample(('\\x02',)*(self.N-1), length, 0)\n",
    "        return sampled_tokens.strip()"
   ]
  },
  {
   "cell_type": "markdown",
   "metadata": {},
   "source": [
    "# Model application"
   ]
  },
  {
   "cell_type": "code",
   "execution_count": 14,
   "metadata": {},
   "outputs": [
    {
     "data": {
      "text/plain": [
       "<matplotlib.axes._subplots.AxesSubplot at 0x2e863b50860>"
      ]
     },
     "execution_count": 14,
     "metadata": {},
     "output_type": "execute_result"
    },
    {
     "data": {
      "image/png": "[encoded data removed]",
      "text/plain": [
       "<matplotlib.figure.Figure at 0x2e86385c710>"
      ]
     },
     "metadata": {},
     "output_type": "display_data"
    }
   ],
   "source": [
    "df['Word Count'].plot.hist(title = 'Word Count histogram')"
   ]
  },
  {
   "cell_type": "code",
   "execution_count": 15,
   "metadata": {
    "collapsed": true
   },
   "outputs": [],
   "source": [
    "def song_by_year(year, N = 3):\n",
    "    \"\"\"\n",
    "    creates a sample song based on year and number of grams N\n",
    "    If year is out of bounds, throw error\n",
    "    \n",
    "    \"\"\"\n",
    "    if type(year) == int:\n",
    "        if year >= 1965 and year <= 2015:\n",
    "            tokens = list([a for b in df[df['Year'] == year].tokens.tolist() for a in b])\n",
    "            p = df[df['Year'] == year]['Word Count'].value_counts(normalize=True)\n",
    "        else:\n",
    "            raise TypeError(\"Year out of bounds\")        \n",
    "    else:\n",
    "        raise TypeError(\"Invalid Year Input\")\n",
    "        \n",
    "    model = NGramLM(N, tokens)\n",
    "    song_length = np.random.choice(p.index, p = p.values)\n",
    "    \n",
    "    return model.sample(song_length)"
   ]
  },
  {
   "cell_type": "code",
   "execution_count": 16,
   "metadata": {},
   "outputs": [
    {
     "data": {
      "text/plain": [
       "'\\x02 one two three four hey eh forever hey eh foreverits you and it feels like tonight tonight feels like tonight i kissed a girl im pretty sure you count me inive been awake for a model poppin that booty keep bumping titties just bouncin up and wait so close your eyes can do youll probably move right through me on my burner prepaid wireless we pack and deliver like ups trucks already going to hurt when it heals too oh itll all get better in time even though i really love you so sad and lonelyi remember when i believe it and that its good by the collar quick whoever havin problems with their record sales just holler tip if that dont mean im in that thing you know that youve been waitin for him to take you with you its going to hell just pumping that gasall i wanna no is sexy can i hit it like she want it she got it she got me ten feet off the lightsnow if she moves her body like a gangsta cause im trying to keep from goin under baby you believe in your eyes boy you better run for covershe moves her body like a bitch im on your break lights were in the ghetto girl just to get like me have you ever think about is you cant stop i just cant stop i just cant stop it cause she mine and so fine and youre a womanizer babyyou you you dont care whos ya boy in yo life ya thing \\x03'"
      ]
     },
     "execution_count": 16,
     "metadata": {},
     "output_type": "execute_result"
    }
   ],
   "source": [
    "song_by_year(2008)"
   ]
  },
  {
   "cell_type": "code",
   "execution_count": 17,
   "metadata": {
    "collapsed": true
   },
   "outputs": [],
   "source": [
    "def song_by_artist(artist, N = 3):\n",
    "    \"\"\"\n",
    "    creates a sample song based on artist and number of grams N\n",
    "    If no artist not in data, throw error\n",
    "    \n",
    "    \"\"\"\n",
    "    if type(artist) == str:\n",
    "        if artist in set(df['Artist']):\n",
    "            tokens = list([a for b in df[df['Artist'] == artist].tokens.tolist() for a in b])\n",
    "            p = df[df['Artist'] == artist]['Word Count'].value_counts(normalize=True)\n",
    "        else:\n",
    "            raise TypeError(\"Artist not in data\")        \n",
    "\n",
    "    else:\n",
    "        raise TypeError(\"Invalid Artist Input\")\n",
    "        \n",
    "    model = NGramLM(N, tokens)\n",
    "    song_length = np.random.choice(p.index, p = p.values)\n",
    "    \n",
    "    return model.sample(song_length)"
   ]
  },
  {
   "cell_type": "code",
   "execution_count": 18,
   "metadata": {},
   "outputs": [
    {
     "data": {
      "text/plain": [
       "'\\x02 we were both young when i saw you standing thereit must have been the way you kissed me fell in love when i first saw you standing there it must have been the way you kissed me fell in love with a fear of fallin wondering why we bother with love if it never lastsi say can you feel this love is difficult but its real dont be afraid well make it out of the city lights on the first date man i didnt kiss him and i know its with mecant you see me again even if its torture dont say i didnt kiss her and i swear im gonna find someone someday who might actually treat me well this is me swallowing my pride standing in a nice dress staring at the sunset babe red lips and rosy cheeks say youll see me hows life tell me when its over if the high was worth the pain got a long list of exlovers theyll tell you to leave cause darling im a nightmare dressed like a daydreamso its gonna be alrightcause the players and you tell me about your dreams i think i know your story like i got home before i said amen asking god if he knows hes all i said amen asking god if he could play it againive heard every album listened to the garden to see you we keep quiet cause were dead if they knew so close your eyes and know shes lucky causehes the reason for the teardrops on my own ill make the moves up as i go back to december turn around and change my own mind i go and i know your story like i got this music in my room its a love story baby just say yesromeo save me ive been feeling so alone i love youooh we called it off i i shake it off heartbreakers gonna break break break break break break break break break break break break break break break break break and the haters gonna hate hate hate hate hate hate hate hate hate hate hate hate hate hate hate baby im just gonna shake shake shake shake shake i shake it off i shake it off i shake it off i shake it off i shake it off i shake \\x03'"
      ]
     },
     "execution_count": 18,
     "metadata": {},
     "output_type": "execute_result"
    }
   ],
   "source": [
    "song_by_artist('taylor swift')"
   ]
  },
  {
   "cell_type": "code",
   "execution_count": null,
   "metadata": {
    "collapsed": true
   },
   "outputs": [],
   "source": []
  }
 ],
 "metadata": {
  "kernelspec": {
   "display_name": "Python 3",
   "language": "python",
   "name": "python3"
  },
  "language_info": {
   "codemirror_mode": {
    "name": "ipython",
    "version": 3
   },
   "file_extension": ".py",
   "mimetype": "text/x-python",
   "name": "python",
   "nbconvert_exporter": "python",
   "pygments_lexer": "ipython3",
   "version": "3.6.3"
  }
 },
 "nbformat": 4,
 "nbformat_minor": 2
}
